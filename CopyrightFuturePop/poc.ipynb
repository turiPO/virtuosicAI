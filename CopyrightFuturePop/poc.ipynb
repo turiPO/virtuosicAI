{
 "cells": [
  {
   "cell_type": "code",
   "execution_count": 1,
   "metadata": {},
   "outputs": [],
   "source": [
    "import pandas as pd\n",
    "import nltk\n",
    "# nltk.download('punkt')\n",
    "# nltk.download('stopwords')\n",
    "# nltk.download('reuters')\n",
    "# nltk.download('words')\n",
    "from nltk.lm import MLE\n",
    "from nltk.lm.preprocessing import pad_both_ends\n",
    "from nltk.lm.preprocessing import padded_everygram_pipeline\n",
    "\n",
    "import itertools\n",
    "\n",
    "from lyrics_preprocess import get_all_sentences\n",
    "from LyricsMarkovChain import LyricsMarkovChain\n",
    "\n",
    "\n",
    "\n",
    "g = get_all_sentences()\n",
    "\n",
    "lyrics = list(g)\n",
    "# lyrics = itertools.islice(g, 1000)\n",
    "lyrics_corpus = [list(l) for l in lyrics]\n",
    "lmc = LyricsMarkovChain(lyrics_corpus)\n",
    "lm = lmc.lm\n"
   ]
  },
  {
   "cell_type": "code",
   "execution_count": 9,
   "metadata": {},
   "outputs": [
    {
     "data": {
      "text/plain": [
       "(1752110,\n",
       " FreqDist({'<s>': 876055, 'I': 104807, 'And': 49735, 'You': 39885, 'But': 21172, '(': 20710, 'It': 18549, 'The': 16540, 'We': 13994, 'Oh': 11945, ...}))"
      ]
     },
     "execution_count": 9,
     "metadata": {},
     "output_type": "execute_result"
    }
   ],
   "source": [
    "lm.counts['<s>'], lm.counts[['<s>']]"
   ]
  },
  {
   "cell_type": "code",
   "execution_count": 10,
   "metadata": {},
   "outputs": [
    {
     "data": {
      "text/plain": [
       "(42890,\n",
       " FreqDist({\"'re\": 6187, 'know': 3770, 'can': 2268, 'got': 2127, \"'ll\": 1539, 'do': 1524, \"'ve\": 1387, 'are': 910, 'ca': 900, 'better': 705, ...}))"
      ]
     },
     "execution_count": 10,
     "metadata": {},
     "output_type": "execute_result"
    }
   ],
   "source": [
    "lm.counts['You'], lm.counts[['You']]"
   ]
  },
  {
   "cell_type": "code",
   "execution_count": 12,
   "metadata": {},
   "outputs": [
    {
     "name": "stdout",
     "output_type": "stream",
     "text": [
      "For probability threshold of 1.0000000000000002e-14 there are 22477 combinations for sentences.\n",
      "          Means 255242730742749841 for four sentences chorus.\n",
      "For probability threshold of 1.0000000000000002e-13 there are 22477 combinations for sentences.\n",
      "          Means 255242730742749841 for four sentences chorus.\n",
      "For probability threshold of 1.0000000000000002e-12 there are 22477 combinations for sentences.\n",
      "          Means 255242730742749841 for four sentences chorus.\n",
      "For probability threshold of 1.0000000000000001e-11 there are 22477 combinations for sentences.\n",
      "          Means 255242730742749841 for four sentences chorus.\n",
      "For probability threshold of 1.0000000000000002e-10 there are 22477 combinations for sentences.\n",
      "          Means 255242730742749841 for four sentences chorus.\n",
      "For probability threshold of 1.0000000000000003e-09 there are 22477 combinations for sentences.\n",
      "          Means 255242730742749841 for four sentences chorus.\n",
      "For probability threshold of 1.0000000000000004e-08 there are 22477 combinations for sentences.\n",
      "          Means 255242730742749841 for four sentences chorus.\n",
      "For probability threshold of 1.0000000000000004e-07 there are 22477 combinations for sentences.\n",
      "          Means 255242730742749841 for four sentences chorus.\n",
      "For probability threshold of 1.0000000000000004e-06 there are 22477 combinations for sentences.\n",
      "          Means 255242730742749841 for four sentences chorus.\n",
      "For probability threshold of 1.0000000000000004e-05 there are 13 combinations for sentences.\n",
      "          Means 28561 for four sentences chorus.\n",
      "For probability threshold of 0.00010000000000000005 there are 3 combinations for sentences.\n",
      "          Means 81 for four sentences chorus.\n",
      "For probability threshold of 0.0010000000000000005 there are 3 combinations for sentences.\n",
      "          Means 81 for four sentences chorus.\n",
      "For probability threshold of 0.010000000000000005 there are 1 combinations for sentences.\n",
      "          Means 1 for four sentences chorus.\n"
     ]
    }
   ],
   "source": [
    "\n",
    "lmc.combinations_threshold = 1e-15\n",
    "for i in range(13):\n",
    "    lmc.combinations_threshold *= 10\n",
    "    comb = lmc.count_sentence_combinations()\n",
    "    print(f\"\"\"For probability threshold of {lmc.combinations_threshold} there are {comb} combinations for sentences.\n",
    "          Means {comb ** 4} for four sentences chorus.\"\"\")"
   ]
  },
  {
   "cell_type": "code",
   "execution_count": null,
   "metadata": {},
   "outputs": [],
   "source": []
  }
 ],
 "metadata": {
  "kernelspec": {
   "display_name": "Python 3.8.1 64-bit",
   "language": "python",
   "name": "python3"
  },
  "language_info": {
   "codemirror_mode": {
    "name": "ipython",
    "version": 3
   },
   "file_extension": ".py",
   "mimetype": "text/x-python",
   "name": "python",
   "nbconvert_exporter": "python",
   "pygments_lexer": "ipython3",
   "version": "3.8.1"
  },
  "orig_nbformat": 4,
  "vscode": {
   "interpreter": {
    "hash": "9650cb4e16cdd4a8e8e2d128bf38d875813998db22a3c986335f89e0cb4d7bb2"
   }
  }
 },
 "nbformat": 4,
 "nbformat_minor": 2
}
